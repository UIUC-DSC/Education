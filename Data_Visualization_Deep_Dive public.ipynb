{
 "cells": [
  {
   "cell_type": "markdown",
   "id": "183e5d44",
   "metadata": {},
   "source": [
    "# Data Visualization Deep Dive"
   ]
  },
  {
   "cell_type": "markdown",
   "id": "c6caef42",
   "metadata": {},
   "source": [
    "If you don't have pandas, matplotlib, or numpy installed, remove the # below and run the cell."
   ]
  },
  {
   "cell_type": "code",
   "execution_count": null,
   "id": "f86786d4",
   "metadata": {},
   "outputs": [],
   "source": [
    "# !pip install pandas\n",
    "# !pip install matplotlib\n",
    "# !pip install numpy "
   ]
  },
  {
   "cell_type": "code",
   "execution_count": null,
   "id": "8d96bcf1",
   "metadata": {},
   "outputs": [],
   "source": [
    "import pandas as pd\n",
    "from matplotlib import colormaps\n",
    "import matplotlib.pyplot as plt\n",
    "import numpy as np"
   ]
  },
  {
   "cell_type": "code",
   "execution_count": null,
   "id": "4f8417cd",
   "metadata": {},
   "outputs": [],
   "source": [
    "df = pd.read_csv(\"building_inventory.csv\", na_values={'Square Footage': 0, \n",
    "                                                    'Year Constructed':0,\n",
    "                                                    'Year Acquired':0}) "
   ]
  },
  {
   "cell_type": "code",
   "execution_count": null,
   "id": "76d8adb1",
   "metadata": {},
   "outputs": [],
   "source": [
    "df.head()"
   ]
  },
  {
   "cell_type": "code",
   "execution_count": null,
   "id": "7f103564",
   "metadata": {},
   "outputs": [],
   "source": [
    "df.columns"
   ]
  },
  {
   "cell_type": "markdown",
   "id": "0d181e41",
   "metadata": {},
   "source": [
    "### scatter plot"
   ]
  },
  {
   "cell_type": "code",
   "execution_count": null,
   "id": "1e209d45",
   "metadata": {},
   "outputs": [],
   "source": [
    "...\n",
    "plt.xlabel(\"Year Acquired\")\n",
    "plt.ylabel(\"Square Footage\")\n",
    "plt.show()"
   ]
  },
  {
   "cell_type": "markdown",
   "id": "4ee76d43",
   "metadata": {},
   "source": [
    "### log scale"
   ]
  },
  {
   "cell_type": "code",
   "execution_count": null,
   "id": "0bf31437",
   "metadata": {},
   "outputs": [],
   "source": [
    "...\n",
    "plt.xlabel(\"Year Acquired\")\n",
    "plt.ylabel(\"Square Footage\")\n",
    "...\n",
    "plt.show()"
   ]
  },
  {
   "cell_type": "markdown",
   "id": "2eef6177",
   "metadata": {},
   "source": [
    "### square root scale"
   ]
  },
  {
   "cell_type": "code",
   "execution_count": null,
   "id": "13a36a51",
   "metadata": {},
   "outputs": [],
   "source": [
    "...\n",
    "plt.xlabel(\"Year Acquired\")\n",
    "plt.ylabel(\"Square Footage\")\n",
    "plt.show()"
   ]
  },
  {
   "cell_type": "markdown",
   "id": "cf3939a3",
   "metadata": {},
   "source": [
    "### bar chart"
   ]
  },
  {
   "cell_type": "code",
   "execution_count": null,
   "id": "9cf06032",
   "metadata": {},
   "outputs": [],
   "source": [
    "top_cities = ...\n",
    "top_cities"
   ]
  },
  {
   "cell_type": "code",
   "execution_count": null,
   "id": "3ef5a8f0",
   "metadata": {},
   "outputs": [],
   "source": [
    "...\n",
    "plt.ylabel(\"Number of Buildings\")\n",
    "plt.title(\"University-Owned Buildings in Illinois\")\n",
    "plt.show()"
   ]
  },
  {
   "cell_type": "markdown",
   "id": "c08bdb97",
   "metadata": {},
   "source": [
    "### correlation heatmap"
   ]
  },
  {
   "cell_type": "code",
   "execution_count": null,
   "id": "0c56270c",
   "metadata": {},
   "outputs": [],
   "source": [
    "correlation = ...\n",
    "correlation"
   ]
  },
  {
   "cell_type": "code",
   "execution_count": null,
   "id": "33720a8d",
   "metadata": {},
   "outputs": [],
   "source": [
    "correlation.shape"
   ]
  },
  {
   "cell_type": "code",
   "execution_count": null,
   "id": "a54347af",
   "metadata": {},
   "outputs": [],
   "source": [
    "correlation.columns.values"
   ]
  },
  {
   "cell_type": "code",
   "execution_count": null,
   "id": "5da8a188",
   "metadata": {},
   "outputs": [],
   "source": [
    "plt.figure(figsize=(8, 8))\n",
    "...\n",
    "plt.xticks(...)\n",
    "plt.yticks(range(10), labels=correlation.columns.values)\n",
    "...\n",
    "...\n",
    "plt.title(\"Correlation of Numeric Variables\")\n",
    "plt.show()"
   ]
  },
  {
   "cell_type": "markdown",
   "id": "955e244d",
   "metadata": {},
   "source": [
    "### line plot"
   ]
  },
  {
   "cell_type": "code",
   "execution_count": null,
   "id": "0f57e38e",
   "metadata": {},
   "outputs": [],
   "source": [
    "weather = pd.read_parquet(\"weather-train.parquet\")\n",
    "weather.head()"
   ]
  },
  {
   "cell_type": "code",
   "execution_count": null,
   "id": "b0f2d94c",
   "metadata": {},
   "outputs": [],
   "source": [
    "august_2016 = weather[(weather.year == 2016) & (weather.month == 8)]"
   ]
  },
  {
   "cell_type": "code",
   "execution_count": null,
   "id": "f6ca6eb2",
   "metadata": {},
   "outputs": [],
   "source": [
    "...\n",
    "plt.xticks([])\n",
    "plt.yticks(range(5, 30, 5))\n",
    "plt.title(\"Lowest Temperature in Urbana, IL (Oct. 2016)\")\n",
    "...\n",
    "plt.show()"
   ]
  },
  {
   "cell_type": "markdown",
   "id": "33d3c184",
   "metadata": {},
   "source": [
    "### polar coordinates"
   ]
  },
  {
   "cell_type": "code",
   "execution_count": null,
   "id": "195543bb",
   "metadata": {},
   "outputs": [],
   "source": [
    "r = august_2016['temperature_2m_min'].values \n",
    "r"
   ]
  },
  {
   "cell_type": "code",
   "execution_count": null,
   "id": "3efe4786",
   "metadata": {},
   "outputs": [],
   "source": [
    "theta = np.linspace(0, 2*np.pi, num=31) \n",
    "theta"
   ]
  },
  {
   "cell_type": "code",
   "execution_count": null,
   "id": "c4e40199",
   "metadata": {},
   "outputs": [],
   "source": [
    "fig, ax = ...\n",
    "ax.set_title(\"Lowest Temperature in Urbana, IL (Oct. 2016)\")\n",
    "ax.plot(theta, r) \n",
    "lines, lables = ...\n",
    "ax.set_xticklabels([])\n",
    "plt.show()"
   ]
  },
  {
   "cell_type": "markdown",
   "id": "9cb1e361",
   "metadata": {},
   "source": [
    "### temperature heatmap"
   ]
  },
  {
   "cell_type": "code",
   "execution_count": null,
   "id": "69344bb3",
   "metadata": {},
   "outputs": [],
   "source": [
    "year_2016 = weather[weather.year == 2016]\n",
    "year_2016"
   ]
  },
  {
   "cell_type": "code",
   "execution_count": null,
   "id": "bd054c87",
   "metadata": {},
   "outputs": [],
   "source": [
    "heatmap = year_2016.pivot(...)\n",
    "heatmap"
   ]
  },
  {
   "cell_type": "code",
   "execution_count": null,
   "id": "218cf8bc",
   "metadata": {},
   "outputs": [],
   "source": [
    "plt.figure(figsize=(12, 8))\n",
    "...\n",
    "plt.yticks(range(12), labels=['January', 'February', 'March', 'April', 'May', 'June', \n",
    "               'July', 'August', 'September', 'October', 'November', 'December'])\n",
    "...\n",
    "plt.title(\"Lowest Daily Temperature in Urbana, IL in 2016\")\n",
    "plt.show()"
   ]
  }
 ],
 "metadata": {
  "kernelspec": {
   "display_name": "Python 3",
   "language": "python",
   "name": "python3"
  },
  "language_info": {
   "codemirror_mode": {
    "name": "ipython",
    "version": 3
   },
   "file_extension": ".py",
   "mimetype": "text/x-python",
   "name": "python",
   "nbconvert_exporter": "python",
   "pygments_lexer": "ipython3",
   "version": "3.12.2"
  }
 },
 "nbformat": 4,
 "nbformat_minor": 5
}
